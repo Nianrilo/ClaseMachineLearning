{
  "nbformat": 4,
  "nbformat_minor": 0,
  "metadata": {
    "colab": {
      "name": "Untitled4.ipynb",
      "provenance": [],
      "authorship_tag": "ABX9TyOPa7H6NA1YmBUtRFPozIqM",
      "include_colab_link": true
    },
    "kernelspec": {
      "name": "python3",
      "display_name": "Python 3"
    },
    "language_info": {
      "name": "python"
    }
  },
  "cells": [
    {
      "cell_type": "markdown",
      "metadata": {
        "id": "view-in-github",
        "colab_type": "text"
      },
      "source": [
        "<a href=\"https://colab.research.google.com/github/Nianrilo/ClaseMachineLearning/blob/main/HeartDisease.ipynb\" target=\"_parent\"><img src=\"https://colab.research.google.com/assets/colab-badge.svg\" alt=\"Open In Colab\"/></a>"
      ]
    },
    {
      "cell_type": "markdown",
      "metadata": {
        "id": "0t55B5sskwnh"
      },
      "source": [
        "**Librerías**"
      ]
    },
    {
      "cell_type": "code",
      "metadata": {
        "id": "nCEkGJ7T4FkF"
      },
      "source": [
        "#Importamos las librerias\n",
        "import math\n",
        "import sys\n",
        "import time\n",
        "import glob\n",
        "import numpy as np\n",
        "import seaborn as sns\n",
        "import pandas as pd\n",
        "from matplotlib import pyplot as plt\n",
        "from sklearn.model_selection import train_test_split\n",
        "from sklearn.preprocessing import OrdinalEncoder\n",
        "from sklearn.preprocessing import StandardScaler\n",
        "from sklearn.decomposition import PCA\n",
        "from sklearn.neighbors import KNeighborsClassifier\n",
        "from sklearn.metrics import matthews_corrcoef\n",
        "from sklearn.metrics import confusion_matrix\n",
        "from sklearn.metrics import accuracy_score\n",
        "from sklearn.metrics import f1_score\n",
        "from sklearn.metrics import roc_auc_score\n",
        "from sklearn.tree import DecisionTreeClassifier"
      ],
      "execution_count": null,
      "outputs": []
    },
    {
      "cell_type": "markdown",
      "metadata": {
        "id": "nK0groh-koy_"
      },
      "source": [
        "**Preprocesamiento y limpieza de los datos**"
      ]
    },
    {
      "cell_type": "code",
      "metadata": {
        "id": "wavh-GW35Pzi"
      },
      "source": [
        "heart = pd.read_csv('heart.csv')\n",
        "#Convertimos las variables categóricas a numéricas\n",
        "enc = OrdinalEncoder()\n",
        "enc.fit(heart[[\"Sex\",\"ChestPainType\",\"RestingECG\",\"ExerciseAngina\",\"ST_Slope\"]])\n",
        "heart[[\"Sex\",\"ChestPainType\"\n",
        "    ,\"RestingECG\",\"ExerciseAngina\",\"ST_Slope\"]]= enc.transform(heart[[\"Sex\",\"ChestPainType\",\"RestingECG\",\"ExerciseAngina\",\"ST_Slope\"]])\n",
        "caracteristicasLimpias=pd.DataFrame(heart)\n",
        "caracteristicasLimpias.to_csv(\"caracteristicasLimpias.csv\")\n"
      ],
      "execution_count": null,
      "outputs": []
    },
    {
      "cell_type": "markdown",
      "metadata": {
        "id": "wLw-rRmVk3tn"
      },
      "source": [
        "**Segmentación y normalización de los datos**"
      ]
    },
    {
      "cell_type": "code",
      "metadata": {
        "id": "C6sDA7qNlIle"
      },
      "source": [
        "x = heart.iloc[:,:-1].values\n",
        "y = heart.iloc[:,-1].values\n",
        "x_train,x_test,y_train,y_test=train_test_split(x,y,test_size = 0.3, random_state = 21)\n",
        "\n",
        "scalerXTr = StandardScaler()\n",
        "scalerXTr.fit(x_train)\n",
        "x_train = scalerXTr.transform(x_train)\n",
        "\n",
        "scalerXTe = StandardScaler()\n",
        "scalerXTe.fit(x_test)\n",
        "x_test = scalerXTe.transform(x_test)"
      ],
      "execution_count": null,
      "outputs": []
    },
    {
      "cell_type": "markdown",
      "metadata": {
        "id": "cLnCvnSMoYqM"
      },
      "source": [
        "**Descomposición en componentes principales**"
      ]
    },
    {
      "cell_type": "code",
      "metadata": {
        "colab": {
          "base_uri": "https://localhost:8080/"
        },
        "id": "redr0R_Eoe9H",
        "outputId": "62e85216-9bd4-42a4-cc0d-594637bd6388"
      },
      "source": [
        "pca = PCA(n_components=11)\n",
        "pca.fit(x_train)\n",
        "print(pca.explained_variance_ratio_)\n",
        "print(sum(pca.explained_variance_ratio_[0:10]))"
      ],
      "execution_count": null,
      "outputs": [
        {
          "output_type": "stream",
          "name": "stdout",
          "text": [
            "[0.24760657 0.1347759  0.10415768 0.09568606 0.08153934 0.07584057\n",
            " 0.07204582 0.05374304 0.050973   0.0466359  0.03699611]\n",
            "0.9630038874445384\n"
          ]
        }
      ]
    },
    {
      "cell_type": "markdown",
      "metadata": {
        "id": "g4azaGz41QrT"
      },
      "source": [
        "Con el fin de reducir las dimensiones sin perder datos reelevantes se tomará la nueva dimensión como 10, dado que esta nos da una varianza de 0.963 lo cual está debajo del criterio del 97%, sin embargo es bastante cercano a este"
      ]
    },
    {
      "cell_type": "code",
      "metadata": {
        "colab": {
          "base_uri": "https://localhost:8080/"
        },
        "id": "1OkSm_1m054e",
        "outputId": "2c327ed8-595c-417a-96fe-34965cc4a7ea"
      },
      "source": [
        "pca = PCA(n_components=10)\n",
        "pca.fit(x_train)\n",
        "x_train = pca.transform(x_train)\n",
        "x_test = pca.transform(x_test)\n",
        "print(len(x_train[0]))"
      ],
      "execution_count": null,
      "outputs": [
        {
          "output_type": "stream",
          "name": "stdout",
          "text": [
            "10\n"
          ]
        }
      ]
    },
    {
      "cell_type": "markdown",
      "metadata": {
        "id": "-D84Zugjz4Sx"
      },
      "source": [
        "Se elije usar el método de KNN dado que es el método visto en clase que mejores resultados da usando la configuración de datos y PCA en la aplicacion **Classification learner** de Matlab. Con el cual adicionalmente obtenemos que el mejor K es 10 con métrica euclidiana."
      ]
    },
    {
      "cell_type": "code",
      "metadata": {
        "colab": {
          "base_uri": "https://localhost:8080/",
          "height": 451
        },
        "id": "P3It88EO1v7t",
        "outputId": "3d8a3aaa-7d04-4083-b764-34f87e9feaf0"
      },
      "source": [
        "KNN = KNeighborsClassifier(n_neighbors=9, p=2,weights=\"distance\")\n",
        "KNN.fit(x_train, y_train)\n",
        "y_pred = KNN.predict(x_test)\n",
        "print(y_pred)\n",
        "KNNConfMat = confusion_matrix(y_test,y_pred)\n",
        "sns.heatmap(KNNConfMat,annot=True)\n",
        "plt.xlabel(\"Predicted label\")\n",
        "plt.ylabel(\"True Label\")\n",
        "plt.title(\"Confusion Matrix\")\n",
        "plt.show"
      ],
      "execution_count": null,
      "outputs": [
        {
          "output_type": "stream",
          "name": "stdout",
          "text": [
            "[0 1 1 1 1 1 0 0 0 0 1 0 1 0 1 0 1 1 1 0 1 0 1 1 1 1 1 0 0 0 1 0 1 1 0 0 1\n",
            " 0 0 1 0 1 1 1 0 0 1 1 0 1 1 0 1 1 1 1 0 0 1 0 1 1 0 1 0 1 0 0 1 0 1 1 1 0\n",
            " 0 0 1 1 1 0 1 0 0 1 1 1 0 0 1 0 1 0 1 0 1 1 1 0 1 1 0 0 0 0 1 1 0 0 0 0 0\n",
            " 0 0 1 1 0 0 1 1 1 1 0 1 1 1 0 1 1 1 1 0 0 0 1 1 0 0 0 0 1 1 0 1 0 1 1 0 0\n",
            " 1 0 0 0 1 0 1 0 1 0 0 1 1 0 0 1 1 0 0 1 0 0 0 0 1 0 1 1 1 1 1 0 1 1 1 0 0\n",
            " 0 1 0 1 1 1 1 1 1 0 0 0 0 1 1 1 0 0 0 0 1 0 1 1 1 0 0 1 1 0 0 0 1 1 0 1 1\n",
            " 1 1 1 1 1 1 1 0 1 1 0 1 1 1 1 1 1 1 1 1 0 1 1 1 1 0 1 0 1 0 1 0 1 1 1 0 1\n",
            " 0 0 0 1 0 0 1 0 0 0 1 0 0 1 1 1 1]\n"
          ]
        },
        {
          "output_type": "execute_result",
          "data": {
            "text/plain": [
              "<function matplotlib.pyplot.show>"
            ]
          },
          "metadata": {},
          "execution_count": 6
        },
        {
          "output_type": "display_data",
          "data": {
            "image/png": "[encoded data removed]",
            "text/plain": [
              "<Figure size 432x288 with 2 Axes>"
            ]
          },
          "metadata": {
            "needs_background": "light"
          }
        }
      ]
    },
    {
      "cell_type": "code",
      "metadata": {
        "colab": {
          "base_uri": "https://localhost:8080/"
        },
        "id": "4vFv5Bwd7Hu_",
        "outputId": "b070d2a1-34f5-4c85-bb67-924b41af1ea8"
      },
      "source": [
        "print(\"Accuracy\")\n",
        "print(accuracy_score(y_test,y_pred))\n",
        "print(\"MCC\")\n",
        "print(matthews_corrcoef(y_test, y_pred))\n",
        "print(\"F1_Score\")\n",
        "print(f1_score(y_test, y_pred, average='micro'))\n",
        "print(\"AUC_ROC_Score\")\n",
        "print(roc_auc_score(y_test, y_pred))"
      ],
      "execution_count": null,
      "outputs": [
        {
          "output_type": "stream",
          "name": "stdout",
          "text": [
            "Accuracy\n",
            "0.9021739130434783\n",
            "MCC\n",
            "0.804614329440031\n",
            "F1_Score\n",
            "0.9021739130434784\n",
            "AUC_ROC_Score\n",
            "0.9097222222222222\n"
          ]
        }
      ]
    }
  ]
}